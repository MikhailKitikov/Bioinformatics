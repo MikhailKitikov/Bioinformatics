{
 "cells": [
  {
   "cell_type": "markdown",
   "metadata": {},
   "source": [
    "## BLAST"
   ]
  },
  {
   "cell_type": "code",
   "execution_count": 1,
   "metadata": {},
   "outputs": [],
   "source": [
    "from Bio import Entrez"
   ]
  },
  {
   "cell_type": "code",
   "execution_count": 7,
   "metadata": {},
   "outputs": [],
   "source": [
    "Entrez.email = 'mihail.kitikov@tut.by'\n",
    "entrez_handle = Entrez.efetch( db=\"protein\", id=\"O92920\", rettype=\"fasta\")"
   ]
  },
  {
   "cell_type": "code",
   "execution_count": 3,
   "metadata": {},
   "outputs": [],
   "source": [
    "text_handle = entrez_handle.read()"
   ]
  },
  {
   "cell_type": "code",
   "execution_count": 4,
   "metadata": {},
   "outputs": [
    {
     "data": {
      "text/plain": [
       "'>sp|O92920.1|HBEAG_HBVD7 RecName: Full=External core antigen; AltName: Full=HBeAg; AltName: Full=Precore protein; AltName: Full=p25; Flags: Precursor\\nMQLFHLCLIISCSCPTVQASKLCLGWLWDMDIDPYKEFGATVQLLSFLPHDFFPSVRDLLDTASALFRDA\\nLESPEHCSPHHTALRQAILCWGELMTLATWVGANLQDPASRELVVTYVNINMGLKFRQLLWFHISCLTFG\\nRETVIEYLVSFGVWIRTPQAYRPPNAPILSTLPETTVVRRRGRSPRRRTPSPRRRRSQSPRRRRSQSRES\\nQC\\n\\n'"
      ]
     },
     "execution_count": 4,
     "metadata": {},
     "output_type": "execute_result"
    }
   ],
   "source": [
    "text_handle"
   ]
  },
  {
   "cell_type": "code",
   "execution_count": 5,
   "metadata": {},
   "outputs": [],
   "source": [
    "from Bio import SeqIO"
   ]
  },
  {
   "cell_type": "code",
   "execution_count": 8,
   "metadata": {},
   "outputs": [],
   "source": [
    "record = SeqIO.read(entrez_handle, \"fasta\")"
   ]
  },
  {
   "cell_type": "code",
   "execution_count": 9,
   "metadata": {},
   "outputs": [
    {
     "data": {
      "text/plain": [
       "1"
      ]
     },
     "execution_count": 9,
     "metadata": {},
     "output_type": "execute_result"
    }
   ],
   "source": [
    "SeqIO.write(record, \"O92920.fasta\", \"fasta\")"
   ]
  },
  {
   "cell_type": "markdown",
   "metadata": {},
   "source": [
    "### Запрос к базам данных с использованиеv BLAST"
   ]
  },
  {
   "cell_type": "code",
   "execution_count": 13,
   "metadata": {},
   "outputs": [],
   "source": [
    "open('O92920_res.xml', 'w+')"
   ]
  },
  {
   "cell_type": "code",
   "execution_count": 33,
   "metadata": {},
   "outputs": [],
   "source": [
    "my_blast_db = \"HBV_10407.fasta\"\n",
    "my_blast_file = \"O92920.fasta\"\n",
    "my_blast_out = \"O92920_res.xml\""
   ]
  },
  {
   "cell_type": "code",
   "execution_count": 34,
   "metadata": {},
   "outputs": [
    {
     "name": "stdout",
     "output_type": "stream",
     "text": [
      "blastp -out O92920_res.xml -outfmt 5 -query O92920.fasta -db HBV_10407.fasta\n"
     ]
    }
   ],
   "source": [
    "from Bio.Blast.Applications import NcbiblastpCommandline\n",
    "\n",
    "cline = NcbiblastpCommandline(query=my_blast_file, db=my_blast_db,outfmt=5,out=my_blast_out)\n",
    "print(cline)\n",
    "stdout, stderr = cline()"
   ]
  },
  {
   "cell_type": "code",
   "execution_count": 35,
   "metadata": {},
   "outputs": [],
   "source": [
    "from Bio.Blast import NCBIXML\n",
    "\n",
    "result=open(my_blast_out,\"r\")\n",
    "records= NCBIXML.parse(result)"
   ]
  },
  {
   "cell_type": "code",
   "execution_count": 27,
   "metadata": {},
   "outputs": [],
   "source": [
    "item = next(records)"
   ]
  },
  {
   "cell_type": "code",
   "execution_count": 29,
   "metadata": {},
   "outputs": [
    {
     "name": "stdout",
     "output_type": "stream",
     "text": [
      "**** ALIGNMENT ****\n",
      " sequence: sp|O92920|HBEAG_HBVD7 External core antigen OS=Hep...\n",
      " length: 212\n",
      " e value: 5.12828e-158\n",
      "score: 1119.0\n",
      "gaps: 0\n",
      " MQLFHLCLIISCSCPTVQASKLCLGWLWDMDIDPYKEFGATVQLLSFLPHDFFPSVRDLLDTASALFRDALESPE...\n",
      " MQLFHLCLIISCSCPTVQASKLCLGWLWDMDIDPYKEFGATVQLLSFLPHDFFPSVRDLLDTASALFRDALESPE...\n",
      " MQLFHLCLIISCSCPTVQASKLCLGWLWDMDIDPYKEFGATVQLLSFLPHDFFPSVRDLLDTASALFRDALESPE...\n",
      "**** ALIGNMENT ****\n",
      " sequence: tr|O92918|O92918_HBV Precore protein OS=Hepatitis ...\n",
      " length: 212\n",
      " e value: 7.76187e-153\n",
      "score: 1085.0\n",
      "gaps: 0\n",
      " MQLFHLCLIISCSCPTVQASKLCLGWLWDMDIDPYKEFGATVQLLSFLPHDFFPSVRDLLDTASALFRDALESPE...\n",
      " MQLFHLCLIISCSCPTVQASKLCLGWLWDMDIDPYKEFGATV+LLSFLP DFFPSVRDLLDTASALFRDALESPE...\n",
      " MQLFHLCLIISCSCPTVQASKLCLGWLWDMDIDPYKEFGATVELLSFLPSDFFPSVRDLLDTASALFRDALESPE...\n",
      "**** ALIGNMENT ****\n",
      " sequence: tr|I2DB80|I2DB80_HBV Precore/core protein OS=Hepat...\n",
      " length: 212\n",
      " e value: 1.79507e-139\n",
      "score: 997.0\n",
      "gaps: 0\n",
      " MQLFHLCLIISCSCPTVQASKLCLGWLWDMDIDPYKEFGATVQLLSFLPHDFFPSVRDLLDTASALFRDALESPE...\n",
      " MQ FHLCLIISCSCPTVQASKLCLGWLW MDIDPYKEFGATV+LLSFLP DFFPSVRDLLDTASAL+RDALESPE...\n",
      " MQFFHLCLIISCSCPTVQASKLCLGWLWGMDIDPYKEFGATVELLSFLPSDFFPSVRDLLDTASALYRDALESPE...\n",
      "**** ALIGNMENT ****\n",
      " sequence: tr|Q80J98|Q80J98_HBV Precore/core protein OS=Hepat...\n",
      " length: 212\n",
      " e value: 2.26335e-137\n",
      "score: 983.0\n",
      "gaps: 0\n",
      " MQLFHLCLIISCSCPTVQASKLCLGWLWDMDIDPYKEFGATVQLLSFLPHDFFPSVRDLLDTASALFRDALESPE...\n",
      " MQLFHLCLIISCSCPTVQASKLCLGWLW MDIDPYKEFGA+V+LLSFLP DFFPSVRDLLDTA+AL+R+ALESPE...\n",
      " MQLFHLCLIISCSCPTVQASKLCLGWLWGMDIDPYKEFGASVELLSFLPSDFFPSVRDLLDTATALYREALESPE...\n",
      "**** ALIGNMENT ****\n",
      " sequence: tr|Q917J7|Q917J7_HBV Pre-core protein OS=Hepatitis...\n",
      " length: 212\n",
      " e value: 1.21437e-132\n",
      "score: 952.0\n",
      "gaps: 0\n",
      " MQLFHLCLIISCSCPTVQASKLCLGWLWDMDIDPYKEFGATVQLLSFLPHDFFPSVRDLLDTASALFRDALESPE...\n",
      " MQLFHLCLIISCSCPTVQASKLCLGWLW MDIDPYKEFGATV+LLSFLP DFFPSVRDLLDTASAL+R+ALESPE...\n",
      " MQLFHLCLIISCSCPTVQASKLCLGWLWGMDIDPYKEFGATVELLSFLPSDFFPSVRDLLDTASALYREALESPE...\n"
     ]
    }
   ],
   "source": [
    "for alignment in item.alignments[:5]:\n",
    "    for hsp in alignment.hsps:\n",
    "        print(\"**** ALIGNMENT ****\")\n",
    "        print(\" sequence:\", alignment.title[:50] + \"...\")\n",
    "        print(\" length:\", alignment.length)\n",
    "        print(\" e value:\", hsp.expect)\n",
    "        print(\"score:\", hsp.score)\n",
    "        print(\"gaps:\", hsp.gaps)\n",
    "        print(\" \" + hsp.query[0:75] + \"...\")\n",
    "        print(\" \" + hsp.match[0:75] + \"...\")\n",
    "        print(\" \" + hsp.sbjct[0:75] + \"...\")"
   ]
  },
  {
   "cell_type": "markdown",
   "metadata": {},
   "source": [
    "### Запуск Blast из Интернета"
   ]
  },
  {
   "cell_type": "code",
   "execution_count": 6,
   "metadata": {},
   "outputs": [],
   "source": [
    "from Bio.Blast import NCBIWWW\n",
    "\n",
    "result_handle = NCBIWWW.qblast(\"blastp\", \"nr\", \"O92920\")"
   ]
  },
  {
   "cell_type": "code",
   "execution_count": 7,
   "metadata": {},
   "outputs": [
    {
     "name": "stdout",
     "output_type": "stream",
     "text": [
      "**** ALIGNMENT ****\n",
      " sequence: sp|O92920.1| RecName: Full=External core antigen; ...\n",
      " length: 212\n",
      " e value: 3.10804e-154\n",
      "score: 1119.0\n",
      "gaps: 0\n",
      " MQLFHLCLIISCSCPTVQASKLCLGWLWDMDIDPYKEFGATVQLLSFLPHDFFPSVRDLLDTASALFRDALESPE...\n",
      " MQLFHLCLIISCSCPTVQASKLCLGWLWDMDIDPYKEFGATVQLLSFLPHDFFPSVRDLLDTASALFRDALESPE...\n",
      " MQLFHLCLIISCSCPTVQASKLCLGWLWDMDIDPYKEFGATVQLLSFLPHDFFPSVRDLLDTASALFRDALESPE...\n",
      "**** ALIGNMENT ****\n",
      " sequence: gb|QDO72733.1| precore/core protein [Hepatitis B v...\n",
      " length: 212\n",
      " e value: 1.01666e-153\n",
      "score: 1115.0\n",
      "gaps: 0\n",
      " MQLFHLCLIISCSCPTVQASKLCLGWLWDMDIDPYKEFGATVQLLSFLPHDFFPSVRDLLDTASALFRDALESPE...\n",
      " MQLFHLCLIISCSCPTVQASKLCLGWLWDMDIDPYKEFGATVQLLSFLPHDFFPSVRDLLDTASALFRDALESPE...\n",
      " MQLFHLCLIISCSCPTVQASKLCLGWLWDMDIDPYKEFGATVQLLSFLPHDFFPSVRDLLDTASALFRDALESPE...\n",
      "**** ALIGNMENT ****\n",
      " sequence: gb|QDO72728.1| precore/core protein [Hepatitis B v...\n",
      " length: 212\n",
      " e value: 1.17461e-152\n",
      "score: 1108.0\n",
      "gaps: 0\n",
      " MQLFHLCLIISCSCPTVQASKLCLGWLWDMDIDPYKEFGATVQLLSFLPHDFFPSVRDLLDTASALFRDALESPE...\n",
      " MQLFHLCLIISCSCPTVQASKLCLGWLWDMDIDPYKEFGATV+LLSFLPHDFFPSVRDLLDTASALFRDALESPE...\n",
      " MQLFHLCLIISCSCPTVQASKLCLGWLWDMDIDPYKEFGATVELLSFLPHDFFPSVRDLLDTASALFRDALESPE...\n",
      "**** ALIGNMENT ****\n",
      " sequence: gb|QDO72738.1| precore/core protein [Hepatitis B v...\n",
      " length: 212\n",
      " e value: 1.40005e-152\n",
      "score: 1108.0\n",
      "gaps: 0\n",
      " MQLFHLCLIISCSCPTVQASKLCLGWLWDMDIDPYKEFGATVQLLSFLPHDFFPSVRDLLDTASALFRDALESPE...\n",
      " MQLFHLCLIISCSCPTVQASKLCLGWLWDMDIDPYKEFGATVQLLSFLPHDFFPSVRDLLDTASAL+R+ALESPE...\n",
      " MQLFHLCLIISCSCPTVQASKLCLGWLWDMDIDPYKEFGATVQLLSFLPHDFFPSVRDLLDTASALYREALESPE...\n",
      "**** ALIGNMENT ****\n",
      " sequence: gb|QDO72743.1| precore/core protein [Hepatitis B v...\n",
      " length: 212\n",
      " e value: 4.79301e-151\n",
      "score: 1098.0\n",
      "gaps: 0\n",
      " MQLFHLCLIISCSCPTVQASKLCLGWLWDMDIDPYKEFGATVQLLSFLPHDFFPSVRDLLDTASALFRDALESPE...\n",
      " MQLFHLCLIISCSCPTVQASKLCLGWLWDMDIDPYKEFGATVQLLSFLP DFFPSVRDLLDTASALFRDALESPE...\n",
      " MQLFHLCLIISCSCPTVQASKLCLGWLWDMDIDPYKEFGATVQLLSFLPSDFFPSVRDLLDTASALFRDALESPE...\n"
     ]
    }
   ],
   "source": [
    "from Bio.Blast import NCBIXML\n",
    "\n",
    "blast_records = NCBIXML.parse(result_handle)\n",
    "blast_record = next(blast_records)\n",
    "\n",
    "for alignment in blast_record.alignments[:5]:\n",
    "    for hsp in alignment.hsps:\n",
    "        print(\"**** ALIGNMENT ****\")\n",
    "        print(\" sequence:\", alignment.title[:50] + \"...\")\n",
    "        print(\" length:\", alignment.length)\n",
    "        print(\" e value:\", hsp.expect)\n",
    "        print(\"score:\", hsp.score)\n",
    "        print(\"gaps:\", hsp.gaps)\n",
    "        print(\" \" + hsp.query[0:75] + \"...\")\n",
    "        print(\" \" + hsp.match[0:75] + \"...\")\n",
    "        print(\" \" + hsp.sbjct[0:75] + \"...\")"
   ]
  },
  {
   "cell_type": "markdown",
   "metadata": {},
   "source": [
    "Вывод в файл:"
   ]
  },
  {
   "cell_type": "code",
   "execution_count": 18,
   "metadata": {},
   "outputs": [],
   "source": [
    "with open('Kitikov_HBV_online.txt', 'w+') as file:\n",
    "    for alignment in blast_record.alignments:\n",
    "        for hsp in alignment.hsps:\n",
    "            file.write(\"**** ALIGNMENT ****\\n\")\n",
    "            file.write(\" sequence:\" + alignment.title + \"\\n\")\n",
    "            file.write(\" length:\" + str(alignment.length) + '\\n')\n",
    "            file.write(\" e value:\" + str(hsp.expect) + '\\n')\n",
    "            file.write(\"score:\" + str(hsp.score) + '\\n')\n",
    "            file.write(\"gaps:\" + str(hsp.gaps) + '\\n')\n",
    "            file.write(\" \" + str(hsp.query[0:75]) + \"...\" + '\\n')\n",
    "            file.write(\" \" + str(hsp.match[0:75]) + \"...\" + '\\n')\n",
    "            file.write(\" \" + str(hsp.sbjct[0:75]) + \"...\" + '\\n')"
   ]
  }
 ],
 "metadata": {
  "kernelspec": {
   "display_name": "Python 3",
   "language": "python",
   "name": "python3"
  },
  "language_info": {
   "codemirror_mode": {
    "name": "ipython",
    "version": 3
   },
   "file_extension": ".py",
   "mimetype": "text/x-python",
   "name": "python",
   "nbconvert_exporter": "python",
   "pygments_lexer": "ipython3",
   "version": "3.6.10"
  }
 },
 "nbformat": 4,
 "nbformat_minor": 4
}
