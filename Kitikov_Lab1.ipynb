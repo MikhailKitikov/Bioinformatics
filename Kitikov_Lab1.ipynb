{
 "cells": [
  {
   "cell_type": "markdown",
   "metadata": {},
   "source": [
    "## Kitikov Mikhail. Lab 1"
   ]
  },
  {
   "cell_type": "markdown",
   "metadata": {},
   "source": [
    "### Task 1\n",
    "Подсчитать GC-content для гена с идентификатором X53950.1\n",
    "(последовательность взять в GeneBank)."
   ]
  },
  {
   "cell_type": "code",
   "execution_count": 1,
   "metadata": {},
   "outputs": [],
   "source": [
    "from Bio.SeqUtils import GC\n",
    "from Bio import SeqIO"
   ]
  },
  {
   "cell_type": "code",
   "execution_count": 6,
   "metadata": {},
   "outputs": [
    {
     "name": "stdout",
     "output_type": "stream",
     "text": [
      "GC content: 35.73213393303348 %\n"
     ]
    }
   ],
   "source": [
    "for record in SeqIO.parse(\"X53950.1.fasta\", \"fasta\"):\n",
    "    print(\"GC content: {} %\".format(GC(record.seq)))"
   ]
  },
  {
   "cell_type": "markdown",
   "metadata": {},
   "source": [
    "### Task 2\n",
    "Получить последовательность fasta из pdb файла (файл – frompdb.pdb), каждая\n",
    "цепь (последовательность) записывается отдельно со своим заголовком."
   ]
  },
  {
   "cell_type": "code",
   "execution_count": 7,
   "metadata": {},
   "outputs": [],
   "source": [
    "from Bio import SeqIO"
   ]
  },
  {
   "cell_type": "code",
   "execution_count": 223,
   "metadata": {},
   "outputs": [
    {
     "name": "stdout",
     "output_type": "stream",
     "text": [
      ">????:A\n",
      "ADVQQKLAELERQSGGRLGVALINTADNSQIXLYRADERFPMCSTSKVMAAAAVLKQSET\n",
      "QKQLLNQPVEIKPADLVNYNPIAEKHVNGTMTLAELSAAALQYSDNTAMNKLIAQLGGPG\n",
      "GVTAFARAIGDETFRLDRTEPTLNTAIPGDPRDTTTPRAMAQTLRQLTLGHALGETQRAQ\n",
      "LVTWLKGNTTGAASIRAGLPASWVVGDKTGSGXGYGTTNDIAVIWPKDRAPLILVTYFTQ\n",
      "PQPKAESRRDVLASAAKIVTDG\n",
      "\n",
      ">????:B\n",
      "ADVQQKLAELERQSGGRLGVALINTADNSQIXLYRADERFPMCSTSKVMAAAAVLKQSET\n",
      "QKQLLNQPVEIKPADLVNYNPIAEKHVNGTMTLAELSAAALQYSDNTAMNKLIAQLGGPG\n",
      "GVTAFARAIGDETFRLDRTEPTLNTAIPGDPRDTTTPRAMAQTLRQLTLGHALGETQRAQ\n",
      "LVTWLKGNTTGAASIRAGLPASWVVGDKTGSGXGYGTTNDIAVIWPKDRAPLILVTYFTQ\n",
      "PQPKAESRRDVLASAAKIVTDG\n",
      "\n"
     ]
    }
   ],
   "source": [
    "import warnings\n",
    "warnings.filterwarnings('ignore')\n",
    "\n",
    "result = []\n",
    "\n",
    "with open(\"frompdb.pdb\") as file_pdb:\n",
    "    for seq in SeqIO.PdbIO.PdbAtomIterator(file_pdb):\n",
    "        result.append(seq)\n",
    "        print(seq.format(\"fasta\"))\n",
    "_ = SeqIO.write(result, \"result.fasta\", \"fasta\")"
   ]
  },
  {
   "cell_type": "markdown",
   "metadata": {},
   "source": [
    "### Task 3\n",
    "Перевести ДНК последовательность в РНК, а потом в белок (файл dna.txt)"
   ]
  },
  {
   "cell_type": "code",
   "execution_count": 15,
   "metadata": {},
   "outputs": [],
   "source": [
    "from Bio.Seq import transcribe, translate"
   ]
  },
  {
   "cell_type": "code",
   "execution_count": 224,
   "metadata": {},
   "outputs": [
    {
     "name": "stdout",
     "output_type": "stream",
     "text": [
      "DNA: \n",
      "GGGATGGCAATAACCCCCCGTTTCTACTTCTAGAGGAGAAAAGTATTGACATGAGCGCTCCCGGCACAAGGGCCAAAGAAGTCTCCAATTTCTTATTTCCGAATGACATGCGTCTCCTTGCGGGTAAATCACCGACCGCAATTCATAGAAGCCTGGGGGAACAGATAGGTCTAATTAGCTTAAGAGAGTAAATCCTGGGATCATTCAGTAGTAACCATAAACTTACGCTGGGGCTTCTTCGGCGGATTTTTACAGTTACCAACCAGGAGATTTGAAGTAAATCAGTTGAGGATTTAGCCGCGCTATCCGGTAATCTCCAAATTAAAACATACCGTTCCATGAAGGCTAGAATTACTTACCGGCCTTTTCCATGCCTGCGCTATACCCCCCCACTCTCCCGCTTATCCGTCCGAGCGGAGGCAGTGCGATCCTCCGTTAAGATATTCTTACGTGTGACGTAGCTATGTATTTTGCAGAGCTGGCGAACGCGTTGAACACTTCACAGATGGTAGGGATTCGGGTAAAGGGCGTATAATTGGGGACTAACATAGGCGTAGACTACGATGGCGCCAACTCAATCGCAGCTCGAGCGCCCTGAATAACGTACTCATCTCAACTCATTCTCGGCAATCTACCGAGCGACTCGATTATCAACGGCTGTCTAGCAGTTCTAATCTTTTGCCAGCATCGTAATAGCCTCCAAGAGATTGATGATAGCTATCGGCACAGAACTGAGACGGCGCCGATGGATAGCGGACTTTCGGTCAACCACAATTCCCCACGGGACAGGTCCTGCGGTGCGCATCACTCTGAATGTACAAGCAACCCAAGTGGGCCGAGCCTGGACTCAGCTGGTTCCTGCGTGAGCTCGAGACTCGGGATGACAGCTCTTTAAACATAGAGCGGGGGCGTCGAACGGTCGAGAAAGTCATAGTACCTCGGGTACCAACTTACTCAGGTTATTGCTTGAAGCTGTACTATTTTAGGGGGGGAGCGCTGAAGGTCTCTTCTTCTCATGACTGAACTCGCGAGGGTCGTGAAGTCGGTTCCTTCAATGGTTAAAAAACAAAGGCTTACTGTGCGCAGAGGAACGCCCATCTAGCGGCTGGCGTCTTGAATGCTCGGTCCCCTTTGTCATTCCGGATTAATCCATTTCCCTCATTCACGAGCTTGCGAAGTCTACATTGGTATATGAATGCGACCTAGAAGAGGGCGCTTAAAATTGGCAGTGGTTGATGCTCTAAACTCCATTTGGTTTACTCGTGCATCACCGCGATAGGCTGACAAAGGTTTAACATTGAATAGCAAGGCACTTCCGGTCTCAATGAACGGCCGGGAAAGGTACGCGCGCGGTATGGGAGGATCAAGGGGCCAATAGAGAGGCTCCTCTCTCACTCGCTAGGAGGCAAATGTAAAACAATGGTTACTGCATCGATACATAAAACATGTCCATCGGTTGCCCAAAGTGTTAAGTGTCTATCACCCCTAGGGCCGTTTCCCGCATATAAACGCCAGGTTGTATCCGCATTTGATGCTACCGTGGATGAGTCTGCGTCGAGCGCGCCGCACGAATGTTGCAATGTATTGCATGAGTAGGGTTGACTAAGAGCCGTTAGATGCGTCGCTGTACTAATAGTTGTCGACAGACCGTCGAGATTAGAAAATGGTACCAGCATTTTCGGAGGTTCTCTAACTAGTATGGATTGCGGTGTCTTCACTGTGCTGCGGCTACCCATCGCCTGAAATCCAGCTGGTGTCAAGCCATCCCCTCTCCGGGACGCCGCATGTAGTGAAACATATACGTTGCACGGGTTCACCGCGGTCCGTTCTGAGTCGACCAAGGACACAATCGAGCTCCGATCCGTACCCTCGACAAACTTGTACCCGACCCCCGGAGCTTGCCAGCTCCTCGGGTATCATGGAGCCTGTGGTTCATCGCGTCCGATATCAAACTTCGTCATGATAAAGTCCCCCCCTCGGGAGTACCAGAGAAGATGACTACTGAGTTGTGCGAT\n",
      "...\n",
      "\n",
      "RNA: \n",
      "GGGAUGGCAAUAACCCCCCGUUUCUACUUCUAGAGGAGAAAAGUAUUGACAUGAGCGCUCCCGGCACAAGGGCCAAAGAAGUCUCCAAUUUCUUAUUUCCGAAUGACAUGCGUCUCCUUGCGGGUAAAUCACCGACCGCAAUUCAUAGAAGCCUGGGGGAACAGAUAGGUCUAAUUAGCUUAAGAGAGUAAAUCCUGGGAUCAUUCAGUAGUAACCAUAAACUUACGCUGGGGCUUCUUCGGCGGAUUUUUACAGUUACCAACCAGGAGAUUUGAAGUAAAUCAGUUGAGGAUUUAGCCGCGCUAUCCGGUAAUCUCCAAAUUAAAACAUACCGUUCCAUGAAGGCUAGAAUUACUUACCGGCCUUUUCCAUGCCUGCGCUAUACCCCCCCACUCUCCCGCUUAUCCGUCCGAGCGGAGGCAGUGCGAUCCUCCGUUAAGAUAUUCUUACGUGUGACGUAGCUAUGUAUUUUGCAGAGCUGGCGAACGCGUUGAACACUUCACAGAUGGUAGGGAUUCGGGUAAAGGGCGUAUAAUUGGGGACUAACAUAGGCGUAGACUACGAUGGCGCCAACUCAAUCGCAGCUCGAGCGCCCUGAAUAACGUACUCAUCUCAACUCAUUCUCGGCAAUCUACCGAGCGACUCGAUUAUCAACGGCUGUCUAGCAGUUCUAAUCUUUUGCCAGCAUCGUAAUAGCCUCCAAGAGAUUGAUGAUAGCUAUCGGCACAGAACUGAGACGGCGCCGAUGGAUAGCGGACUUUCGGUCAACCACAAUUCCCCACGGGACAGGUCCUGCGGUGCGCAUCACUCUGAAUGUACAAGCAACCCAAGUGGGCCGAGCCUGGACUCAGCUGGUUCCUGCGUGAGCUCGAGACUCGGGAUGACAGCUCUUUAAACAUAGAGCGGGGGCGUCGAACGGUCGAGAAAGUCAUAGUACCUCGGGUACCAACUUACUCAGGUUAUUGCUUGAAGCUGUACUAUUUUAGGGGGGGAGCGCUGAAGGUCUCUUCUUCUCAUGACUGAACUCGCGAGGGUCGUGAAGUCGGUUCCUUCAAUGGUUAAAAAACAAAGGCUUACUGUGCGCAGAGGAACGCCCAUCUAGCGGCUGGCGUCUUGAAUGCUCGGUCCCCUUUGUCAUUCCGGAUUAAUCCAUUUCCCUCAUUCACGAGCUUGCGAAGUCUACAUUGGUAUAUGAAUGCGACCUAGAAGAGGGCGCUUAAAAUUGGCAGUGGUUGAUGCUCUAAACUCCAUUUGGUUUACUCGUGCAUCACCGCGAUAGGCUGACAAAGGUUUAACAUUGAAUAGCAAGGCACUUCCGGUCUCAAUGAACGGCCGGGAAAGGUACGCGCGCGGUAUGGGAGGAUCAAGGGGCCAAUAGAGAGGCUCCUCUCUCACUCGCUAGGAGGCAAAUGUAAAACAAUGGUUACUGCAUCGAUACAUAAAACAUGUCCAUCGGUUGCCCAAAGUGUUAAGUGUCUAUCACCCCUAGGGCCGUUUCCCGCAUAUAAACGCCAGGUUGUAUCCGCAUUUGAUGCUACCGUGGAUGAGUCUGCGUCGAGCGCGCCGCACGAAUGUUGCAAUGUAUUGCAUGAGUAGGGUUGACUAAGAGCCGUUAGAUGCGUCGCUGUACUAAUAGUUGUCGACAGACCGUCGAGAUUAGAAAAUGGUACCAGCAUUUUCGGAGGUUCUCUAACUAGUAUGGAUUGCGGUGUCUUCACUGUGCUGCGGCUACCCAUCGCCUGAAAUCCAGCUGGUGUCAAGCCAUCCCCUCUCCGGGACGCCGCAUGUAGUGAAACAUAUACGUUGCACGGGUUCACCGCGGUCCGUUCUGAGUCGACCAAGGACACAAUCGAGCUCCGAUCCGUACCCUCGACAAACUUGUACCCGACCCCCGGAGCUUGCCAGCUCCUCGGGUAUCAUGGAGCCUGUGGUUCAUCGCGUCCGAUAUCAAACUUCGUCAUGAUAAAGUCCCCCCCUCGGGAGUACCAGAGAAGAUGACUACUGAGUUGUGCGAU\n",
      "...\n"
     ]
    }
   ],
   "source": [
    "# DNA to RNA\n",
    "\n",
    "with open(\"dna.txt\", \"r\") as file:\n",
    "    dna = file.read()[:-1]\n",
    "    rna = transcribe(dna)\n",
    "\n",
    "print(\"DNA: \\n%s\\n...\" % dna)\n",
    "print(\"\\nRNA: \\n%s\\n...\" % rna)"
   ]
  },
  {
   "cell_type": "code",
   "execution_count": 225,
   "metadata": {},
   "outputs": [
    {
     "name": "stdout",
     "output_type": "stream",
     "text": [
      "Protein: \n",
      "GMAITPRFYF*RRKVLT*ALPAQGPKKSPISYFRMTCVSLRVNHRPQFIEAWGNR*V*LA*ESKSWDHSVVTINLRWGFFGGFLQLPTRRFEVNQLRI*PRYPVISKLKHTVP*RLELLTGLFHACAIPPHSPAYPSERRQCDPPLRYSYV*RSYVFCRAGERVEHFTDGRDSGKGRIIGD*HRRRLRWRQLNRSSSALNNVLISTHSRQSTERLDYQRLSSSSNLLPAS**PPRD***LSAQN*DGADG*RTFGQPQFPTGQVLRCASL*MYKQPKWAEPGLSWFLRELETRDDSSLNIERGRRTVEKVIVPRVPTYSGYCLKLYYFRGGALKVSSSHD*TREGREVGSFNG*KTKAYCAQRNAHLAAGVLNARSPLSFRINPFPSFTSLRSLHWYMNAT*KRALKIGSG*CSKLHLVYSCITAIG*QRFNIE*QGTSGLNERPGKVRARYGRIKGPIERLLSHSLGGKCKTMVTASIHKTCPSVAQSVKCLSPLGPFPAYKRQVVSAFDATVDESASSAPHECCNVLHE*G*LRAVRCVAVLIVVDRPSRLENGTSIFGGSLTSMDCGVFTVLRLPIA*NPAGVKPSPLRDAACSETYTLHGFTAVRSESTKDTIELRSVPSTNLYPTPGACQLLGYHGACGSSRPISNFVMIKSPPREYQRR*LLSCA\n"
     ]
    }
   ],
   "source": [
    "# RNA to protein\n",
    "\n",
    "protein = translate(rna)\n",
    "\n",
    "print (\"Protein: \\n%s\" % protein)"
   ]
  },
  {
   "cell_type": "markdown",
   "metadata": {},
   "source": [
    "### Task 4\n",
    "Сделать url запрос в GeneBank по идентификатору гена 7157, распарсить\n",
    "полученный файл, чтобы найти информацию: идентификатор в Uniprot\n",
    "кодируемого этим геном белка."
   ]
  },
  {
   "cell_type": "code",
   "execution_count": 29,
   "metadata": {},
   "outputs": [],
   "source": [
    "import urllib.request\n",
    "\n",
    "req = urllib.request.urlopen(url='https://www.ncbi.nlm.nih.gov/gene/?term=7157')\n",
    "html = str(req.read())"
   ]
  },
  {
   "cell_type": "code",
   "execution_count": 219,
   "metadata": {},
   "outputs": [
    {
     "name": "stdout",
     "output_type": "stream",
     "text": [
      "Uniprot ids:\n",
      "K7PPA8, A0A087WXZ1, P04637, A0A087X1Q1, H2EHT1, A0A087WT22, Q53GA5\n"
     ]
    }
   ],
   "source": [
    "import re\n",
    "\n",
    "results = [x.start() for x in re.finditer(r'(?=(https:\\/\\/www\\.uniprot\\.org\\/uniprot.*\"))', html)]\n",
    "links = [html[pos: html.find('\"', pos)] for pos in results]\n",
    "uniprot_ids = set([link[32:] for link in links])\n",
    "\n",
    "print(\"Uniprot ids:\")\n",
    "print(\", \".join(uniprot_ids))"
   ]
  },
  {
   "cell_type": "markdown",
   "metadata": {},
   "source": [
    "### Task 5\n",
    "Поиск мотивов в последовательности с помощью регулярных выражений (dna.txt).\n",
    "Найти все мотивы (указать индексы начала мотивов в последовательности):"
   ]
  },
  {
   "cell_type": "markdown",
   "metadata": {},
   "source": [
    "### a) \n",
    "GCNGC, где N означает любой нуклеотид – сайт, который находит BisI\n",
    "restriction enzyme."
   ]
  },
  {
   "cell_type": "code",
   "execution_count": 151,
   "metadata": {},
   "outputs": [],
   "source": [
    "import re"
   ]
  },
  {
   "cell_type": "code",
   "execution_count": 220,
   "metadata": {},
   "outputs": [
    {
     "name": "stdout",
     "output_type": "stream",
     "text": [
      "Target motives at indices\n",
      "296, 580, 1101, 1562, 1721, 1724, 1779\n"
     ]
    }
   ],
   "source": [
    "print(\"Target motives at indices\")\n",
    "\n",
    "with open(\"dna.txt\", \"r\") as file:\n",
    "    seq = file.read()\n",
    "    print(\", \".join([str(res.start()) for res in re.finditer(r'(?=(GC[AGCT]GC))', seq)]))"
   ]
  },
  {
   "cell_type": "markdown",
   "metadata": {},
   "source": [
    "### b)\n",
    "Определить эукариотическую мРНК:\n",
    "ATG – стартовый кодон.\n",
    "За стартовым кодоном следует последовательность из нуклеотидов (A, T, G\n",
    "или C) длиной от 30 до 1000\n",
    "Затем следует полиА-хвост (последовательность, состоящая только из А\n",
    "нуклеотидов) длиной от 5 до 10."
   ]
  },
  {
   "cell_type": "code",
   "execution_count": 222,
   "metadata": {},
   "outputs": [
    {
     "name": "stdout",
     "output_type": "stream",
     "text": [
      "Target mRNAs at indexes:\n",
      "102, 107, 338, 370, 463, 505, 563, 710, 745, 813, 880, 1015\n"
     ]
    }
   ],
   "source": [
    "with open(\"dna.txt\", \"r\") as file:\n",
    "    seq = file.read()\n",
    "    print(\"Target mRNAs at indexes:\")\n",
    "    print(\", \".join([str(res.start()) for res in re.finditer(r'(?=(ATG[ATGC]{30,1000}[A]{5,10}))', seq)]))"
   ]
  }
 ],
 "metadata": {
  "kernelspec": {
   "display_name": "Python 3",
   "language": "python",
   "name": "python3"
  },
  "language_info": {
   "codemirror_mode": {
    "name": "ipython",
    "version": 3
   },
   "file_extension": ".py",
   "mimetype": "text/x-python",
   "name": "python",
   "nbconvert_exporter": "python",
   "pygments_lexer": "ipython3",
   "version": "3.6.10"
  }
 },
 "nbformat": 4,
 "nbformat_minor": 4
}
