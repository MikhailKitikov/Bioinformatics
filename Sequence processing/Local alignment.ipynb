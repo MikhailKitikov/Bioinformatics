{
 "cells": [
  {
   "cell_type": "markdown",
   "metadata": {},
   "source": [
    "## Task 1. Локальное выравнивание"
   ]
  },
  {
   "cell_type": "code",
   "execution_count": 1,
   "metadata": {},
   "outputs": [],
   "source": [
    "from Bio.SubsMat.MatrixInfo import blosum62 as tabBL\n",
    "from Bio.SubsMat.MatrixInfo import pam60 as tabPAM\n",
    "import numpy as np"
   ]
  },
  {
   "cell_type": "code",
   "execution_count": 2,
   "metadata": {},
   "outputs": [],
   "source": [
    "def alignProteins(seq1, seq2, table, printMatrix=True):\n",
    "    \n",
    "    seq1 = seq1.upper()\n",
    "    seq2 = seq2.upper()\n",
    "    \n",
    "    # compute dp matrix\n",
    "    \n",
    "    n1, n2 = len(seq1), len(seq2)\n",
    "    dp = np.empty((n1 + 1, n2 + 1), dtype=int)\n",
    "    dp[:, 0] = np.zeros((1, n1 + 1))\n",
    "    dp[0, :] = np.zeros((1, n2 + 1))\n",
    "    \n",
    "    gap_penalty = -10\n",
    "\n",
    "    for i in range(1, n1 + 1):\n",
    "        for j in range(1, n2 + 1):\n",
    "            penalty = table[(seq1[i - 1], seq2[j - 1])] if (seq1[i - 1], seq2[j - 1]) in table else \\\n",
    "                        table[(seq2[j - 1], seq1[i - 1])]\n",
    "            dp[i, j] = max(dp[i - 1, j - 1] + penalty, \n",
    "                           dp[i - 1, j] + gap_penalty, \n",
    "                           dp[i, j - 1] + gap_penalty,\n",
    "                           0)\n",
    "            \n",
    "    if printMatrix:        \n",
    "        seq1_list = [''] + list(seq1)\n",
    "        seq2_list = ['', ''] + list(seq2)\n",
    "        print(\"\\t\\t\\tDP matrix:\")\n",
    "        print('\\t')\n",
    "        print(\"\\t\".join(seq2_list))\n",
    "        for i in range(n1 + 1):\n",
    "            print(seq1_list[i], '\\t', '\\t'.join(list(dp[i].astype(str))))\n",
    "            \n",
    "    # back step\n",
    "    \n",
    "    i, j = np.unravel_index(np.argmax(dp), dp.shape)\n",
    "    end_coord = i, j\n",
    "    seq1_aligned_list = []\n",
    "    seq2_aligned_list = []\n",
    "    \n",
    "    while dp[i, j] > 0:\n",
    "        if dp[i - 1, j] + gap_penalty == dp[i, j]:\n",
    "            i -= 1\n",
    "            seq1_aligned_list.append(seq1[i])\n",
    "            seq2_aligned_list.append('-')\n",
    "        elif dp[i, j - 1] + gap_penalty == dp[i, j]:\n",
    "            j -= 1\n",
    "            seq1_aligned_list.append('-')\n",
    "            seq2_aligned_list.append(seq2[j])\n",
    "        else:\n",
    "            i -= 1\n",
    "            j -= 1\n",
    "            seq1_aligned_list.append(seq1[i])\n",
    "            seq2_aligned_list.append(seq2[j])\n",
    "            \n",
    "    start_coord = (i, j)\n",
    "    \n",
    "    seq1_aligned_list = seq1_aligned_list[::-1]\n",
    "    seq2_aligned_list = seq2_aligned_list[::-1]\n",
    "    \n",
    "    print(\"\\n\\t\\t\\tAlignment:\\n\")\n",
    "    \n",
    "    tab1 = max(0, start_coord[1] - start_coord[0])\n",
    "    tab2 = max(0, start_coord[0] - start_coord[1])    \n",
    "    \n",
    "    seq1_aligned = ''.join([' '] * tab1) + seq1[: start_coord[0]].lower() + \\\n",
    "                   ''.join(seq1_aligned_list).upper() + seq1[end_coord[0]:].lower()\n",
    "    seq2_aligned = ''.join([' '] * tab2) + seq2[: start_coord[1]].lower() + \\\n",
    "                   ''.join(seq2_aligned_list).upper() + seq2[end_coord[1]:].lower()\n",
    "    \n",
    "    len_aligned = len(seq1_aligned_list)\n",
    "    ticks = []\n",
    "    for i in range(len_aligned):\n",
    "        ticks.append('|' if seq1_aligned_list[i] == seq2_aligned_list[i] else ' ')\n",
    "    \n",
    "    print(seq1_aligned)\n",
    "    print(''.join([' '] * max(start_coord) + ticks))\n",
    "    print(seq2_aligned)\n",
    "    print(\"\\nWeight =\", dp[end_coord])"
   ]
  },
  {
   "cell_type": "markdown",
   "metadata": {},
   "source": [
    "##### BLOSUM 62"
   ]
  },
  {
   "cell_type": "code",
   "execution_count": 13,
   "metadata": {},
   "outputs": [
    {
     "name": "stdout",
     "output_type": "stream",
     "text": [
      "\t\t\tDP matrix:\n",
      "\t\n",
      "\t\tA\tT\tC\tM\tT\tR\tT\tN\tC\tF\tA\n",
      " \t 0\t0\t0\t0\t0\t0\t0\t0\t0\t0\t0\t0\n",
      "A \t 0\t4\t0\t0\t0\t0\t0\t0\t0\t0\t0\t4\n",
      "G \t 0\t0\t2\t0\t0\t0\t0\t0\t0\t0\t0\t0\n",
      "C \t 0\t0\t0\t11\t1\t0\t0\t0\t0\t9\t0\t0\n",
      "T \t 0\t0\t5\t1\t10\t6\t0\t5\t0\t0\t7\t0\n",
      "G \t 0\t0\t0\t2\t0\t8\t4\t0\t5\t0\t0\t7\n",
      "A \t 0\t4\t0\t0\t1\t0\t7\t4\t0\t5\t0\t4\n",
      "T \t 0\t0\t9\t0\t0\t6\t0\t12\t4\t0\t3\t0\n",
      "T \t 0\t0\t5\t8\t0\t5\t5\t5\t12\t3\t0\t3\n",
      "C \t 0\t0\t0\t14\t7\t0\t2\t4\t2\t21\t11\t1\n",
      "G \t 0\t0\t0\t4\t11\t5\t0\t0\t4\t11\t18\t11\n",
      "W \t 0\t0\t0\t0\t3\t9\t2\t0\t0\t2\t12\t15\n",
      "R \t 0\t0\t0\t0\t0\t2\t14\t4\t0\t0\t2\t11\n",
      "N \t 0\t0\t0\t0\t0\t0\t4\t14\t10\t0\t0\t1\n",
      "D \t 0\t0\t0\t0\t0\t0\t0\t4\t15\t7\t0\t0\n",
      "T \t 0\t0\t5\t0\t0\t5\t0\t5\t5\t14\t5\t0\n",
      "S \t 0\t1\t1\t4\t0\t1\t4\t1\t6\t4\t12\t6\n",
      "R \t 0\t0\t0\t0\t3\t0\t6\t3\t1\t3\t2\t11\n",
      "H \t 0\t0\t0\t0\t0\t1\t0\t4\t4\t0\t2\t1\n",
      "F \t 0\t0\t0\t0\t0\t0\t0\t0\t1\t2\t6\t0\n",
      "A \t 0\t4\t0\t0\t0\t0\t0\t0\t0\t1\t0\t10\n",
      "\n",
      "\t\t\tAlignment:\n",
      "\n",
      "AGCTGATTCgwrndtsrhfa\n",
      "| |   | |\n",
      "ATCMTRTNCfa\n",
      "\n",
      "Weight = 21\n"
     ]
    }
   ],
   "source": [
    "seq1 = \"AGCTGATTCGWRNDTSRHFA\"\n",
    "seq2 = \"ATCMTRTNCFA\"\n",
    "alignProteins(seq1, seq2, tabBL)"
   ]
  },
  {
   "cell_type": "markdown",
   "metadata": {},
   "source": [
    "##### PAM 60"
   ]
  },
  {
   "cell_type": "code",
   "execution_count": 14,
   "metadata": {},
   "outputs": [
    {
     "name": "stdout",
     "output_type": "stream",
     "text": [
      "\t\t\tDP matrix:\n",
      "\t\n",
      "\t\tA\tT\tC\tM\tT\tR\tT\tN\tC\tF\tA\n",
      " \t 0\t0\t0\t0\t0\t0\t0\t0\t0\t0\t0\t0\n",
      "A \t 0\t5\t1\t0\t0\t1\t0\t1\t0\t0\t0\t5\n",
      "G \t 0\t0\t2\t0\t0\t0\t0\t0\t0\t0\t0\t0\n",
      "C \t 0\t0\t0\t11\t1\t0\t0\t0\t0\t9\t0\t0\n",
      "T \t 0\t1\t6\t1\t9\t7\t0\t6\t0\t0\t3\t1\n",
      "G \t 0\t0\t0\t0\t0\t6\t0\t0\t5\t0\t0\t3\n",
      "A \t 0\t5\t1\t0\t0\t1\t1\t1\t0\t0\t0\t5\n",
      "T \t 0\t1\t11\t1\t0\t6\t0\t7\t0\t0\t0\t1\n",
      "T \t 0\t1\t7\t6\t0\t6\t2\t6\t6\t0\t0\t1\n",
      "C \t 0\t0\t0\t16\t6\t0\t0\t0\t0\t15\t5\t0\n",
      "G \t 0\t0\t0\t6\t10\t3\t0\t0\t0\t5\t8\t5\n",
      "W \t 0\t0\t0\t0\t0\t1\t3\t0\t0\t0\t2\t0\n",
      "R \t 0\t0\t0\t0\t0\t0\t9\t0\t0\t0\t0\t0\n",
      "N \t 0\t0\t0\t0\t0\t0\t0\t8\t6\t0\t0\t0\n",
      "D \t 0\t0\t0\t0\t0\t0\t0\t0\t10\t0\t0\t0\n",
      "T \t 0\t1\t6\t0\t0\t6\t0\t6\t0\t5\t0\t1\n",
      "S \t 0\t1\t2\t5\t0\t1\t4\t1\t7\t0\t0\t1\n",
      "R \t 0\t0\t0\t0\t3\t0\t9\t0\t0\t1\t0\t0\n",
      "H \t 0\t0\t0\t0\t0\t0\t0\t4\t1\t0\t0\t0\n",
      "F \t 0\t0\t0\t0\t0\t0\t0\t0\t0\t0\t8\t0\n",
      "A \t 0\t5\t1\t0\t0\t1\t0\t1\t0\t0\t0\t13\n",
      "\n",
      "\t\t\tAlignment:\n",
      "\n",
      "agctgaTTCgwrndtsrhfa\n",
      "       ||\n",
      "      ATCmtrtncfa\n",
      "\n",
      "Weight = 16\n"
     ]
    }
   ],
   "source": [
    "seq1 = \"AGCTGATTCGWRNDTSRHFA\"\n",
    "seq2 = \"ATCMTRTNCFA\"\n",
    "alignProteins(seq1, seq2, tabPAM)"
   ]
  },
  {
   "cell_type": "markdown",
   "metadata": {},
   "source": [
    "## Task 2. Множественное выравнивание"
   ]
  },
  {
   "cell_type": "markdown",
   "metadata": {},
   "source": [
    "Возьмем для выравнивания семейство родственных белков \"Adenosine and adenine nucleotide receptors\" (из них 7 белков). Воспользуемся сервисом Clustal Omega. Результат выравнивания:"
   ]
  },
  {
   "cell_type": "raw",
   "metadata": {},
   "source": [
    "sp|P49892|AA1R_CHICK      MAQSVTAFQAAYISIEVLIALVSVPGNILVIWAVKMNQALRDATFCFIVSLAVADVAVGA\t60\n",
    "sp|P11616|AA1R_CANLF      MPPAISAFQAAYIGIEVLIALVSVPGNVLVIWAVKVNQALRDATFCFIVSLAVADVAVGA\t60\n",
    "sp|P28190|AA1R_BOVIN      MPPSISAFQAAYIGIEVLIALVSVPGNVLVIWAVKVNQALRDATFCFIVSLAVADVAVGA\t60\n",
    "sp|Q60612|AA1R_MOUSE      MPPYISAFQAAYIGIEVLIALVSVPGNVLVIWAVKVNQALRDATFCFIVSLAVADVAVGA\t60\n",
    "sp|P47745|AA1R_CAVPO      MPHSVSAFQAAYIGIEVLIALVSVPGNVLVIWAVKVNQALRDATFCFIASLAVADVAVGA\t60\n",
    "sp|P30542|AA1R_HUMAN      MPPSISAFQAAYIGIEVLIALVSVPGNVLVIWAVKVNQALRDATFCFIVSLAVADVAVGA\t60\n",
    "sp|Q5RF57|AA1R_PONAB      MPPSISAFQAAYIGIEVLIALVSVPGNVLVIWAVKVNQALRDATFCFIVLLAVADVAVGA\t60\n",
    "                          *   ::*******.*************:*******:************. **********\n",
    "\n",
    "sp|P49892|AA1R_CHICK      LVIPLAIIINIGPQTEFYSCLMMACPVLILTESSILALLAIAVDRYLRVKIPVRYKSVVT\t120\n",
    "sp|P11616|AA1R_CANLF      LVIPLAILINIGPRTYFHTCLMVACPVLILTQSSILALLAIAVDRYLRVKIPLRYKTVVT\t120\n",
    "sp|P28190|AA1R_BOVIN      LVIPLAILINIGPRTYFHTCLKVACPVLILTQSSILALLAIAVDRYLRVKIPLRYKTVVT\t120\n",
    "sp|Q60612|AA1R_MOUSE      LVIPLAILINIGPQTYFHTCLMVACPVLILTQSSILALLAIAVDRYLRVKIPLRYKTVVT\t120\n",
    "sp|P47745|AA1R_CAVPO      LVIPLAILINIGPQTYFHTCLMVACPVLILTQSSILALLAIAVDRYLRVKIPLRYKTVVT\t120\n",
    "sp|P30542|AA1R_HUMAN      LVIPLAILINIGPQTYFHTCLMVACPVLILTQSSILALLAIAVDRYLRVKIPLRYKMVVT\t120\n",
    "sp|Q5RF57|AA1R_PONAB      LVIPLAILINIGPQTYFHTCLMVACPVLILTQSSILALLTIAVDRYLRVKIPLRYKMVVT\t120\n",
    "                          *******:*****:* *::** :********:*******:************:*** ***\n",
    "\n",
    "sp|P49892|AA1R_CHICK      PRRAAVAIACCWIVSFLVGLTPMFGWNNLNKVLGTRDLNVSHSEFVIKCQFETVISMEYM\t180\n",
    "sp|P11616|AA1R_CANLF      PRRAAVAIAGCWILSFVVGLTPLFGWNRLGEAQRAWAANGSGGEPVIKCEFEKVISMEYM\t180\n",
    "sp|P28190|AA1R_BOVIN      PRRAVVAITGCWILSFVVGLTPMFGWNNLSAVERDWLANGSVGEPVIECQFEKVISMEYM\t180\n",
    "sp|Q60612|AA1R_MOUSE      QRRAAVAIAGCWILSLVVGLTPMFGWNNLSEVEQAWIANGSVGEPVIKCEFEKVISMEYM\t180\n",
    "sp|P47745|AA1R_CAVPO      PRRAAVAIAGCWILSLVVGLTPMFGWNNLSKIEMAWAANGSVGEPVIKCEFEKVISMEYM\t180\n",
    "sp|P30542|AA1R_HUMAN      PRRAAVAIAGCWILSFVVGLTPMFGWNNLSAVERAWAANGSMGEPVIKCEFEKVISMEYM\t180\n",
    "sp|Q5RF57|AA1R_PONAB      PRRAAVAIAGCWILSFVVGLTPMFGWNNLSAVERAWAANGSMGEPVIKCEFEKVISMEYM\t180\n",
    "                           ***.***: ***:*::*****:****.*.        * * .* **:*:**.*******\n",
    "\n",
    "sp|P49892|AA1R_CHICK      VYFNFFVWVLPPLLLMLLIYLEVFNLIRTQLNKKVSSSSNDPQKYYGKELKIAKSLALVL\t240\n",
    "sp|P11616|AA1R_CANLF      VYFNFFVWVLPPLLLMVLIYLEVFYLIRRQLGKKVSASSGDPQKYYGKELKIAKSLALIL\t240\n",
    "sp|P28190|AA1R_BOVIN      VYFNFFVWVLPPLLLMVLIYMEVFYLIRKQLNKKVSASSGDPQKYYGKELKIAKSLALIL\t240\n",
    "sp|Q60612|AA1R_MOUSE      VYFNFFVWVLPPLLLMVLIYLEVFYLIRKQLNKKVSASSGDPQKYYGKELKIAKSLALIL\t240\n",
    "sp|P47745|AA1R_CAVPO      VYFNFFVWVLPPLLLMVLIYLEVFYLIRKQLSKKVSASSGDPQKYYGKELKIAKSLALIL\t240\n",
    "sp|P30542|AA1R_HUMAN      VYFNFFVWVLPPLLLMVLIYLEVFYLIRKQLNKKVSASSGDPQKYYGKELKIAKSLALIL\t240\n",
    "sp|Q5RF57|AA1R_PONAB      VYFNFFVWVLPPLLLMVLIYLEVFYLIRKQLNKKVSASSGDPQKYYGKELKIAKSLALIL\t240\n",
    "                          ****************:***:*** *** **.****:**.******************:*\n",
    "\n",
    "sp|P49892|AA1R_CHICK      FLFALSWLPLHILNCITLFCPSCKTPHILTYIAIFLTHGNSAMNPIVYAFRIKKFRTAFL\t300\n",
    "sp|P11616|AA1R_CANLF      FLFALSWLPLHILNCITLFCPSCRKPSILMYIAIFLTHGNSAMNPIVYAFRIQKFRVTFL\t300\n",
    "sp|P28190|AA1R_BOVIN      FLFALSWLPLHILNCITLFCPSCHMPRILIYIAIFLSHGNSAMNPIVYAFRIQKFRVTFL\t300\n",
    "sp|Q60612|AA1R_MOUSE      FLFALSWLPLHILNCITLFCPTCQKPSILIYIAIFLTHGNSAMNPIVYAFRIHKFRVTFL\t300\n",
    "sp|P47745|AA1R_CAVPO      FLFALSWLPLHILNCITLFCPTCHKPTILTYIAIFLTHGNSAMNPIVYAFRIQKFRVTFL\t300\n",
    "sp|P30542|AA1R_HUMAN      FLFALSWLPLHILNCITLFCPSCHKPSILTYIAIFLTHGNSAMNPIVYAFRIQKFRVTFL\t300\n",
    "sp|Q5RF57|AA1R_PONAB      FLFALSWLPLHILNCITLFCPSCHKPSILTYIAIFLTHGNSAMNPIVYAFRIQKFRVTFL\t300\n",
    "                          *********************:*: * ** ******:***************:***.:**\n",
    "\n",
    "sp|P49892|AA1R_CHICK      QIWNQYFCCKTNKSSSSSTAETVN--\t324\n",
    "sp|P11616|AA1R_CANLF      KIWNDHFRCQPTPPVDEDPPEEAPHD\t326\n",
    "sp|P28190|AA1R_BOVIN      KIWNDHFRCQPAPPVDEDAPAERPDD\t326\n",
    "sp|Q60612|AA1R_MOUSE      KIWNDHFRCQPKPPIEEDIPEEKADD\t326\n",
    "sp|P47745|AA1R_CAVPO      KIWNDHFRCQPEPPIDEDLPEEKVDD\t326\n",
    "sp|P30542|AA1R_HUMAN      KIWNDHFRCQPAPPIDEDLPEERPDD\t326\n",
    "sp|Q5RF57|AA1R_PONAB      KIWNDNFRCQPAPPIDEDLPEERPDD\t326\n",
    "                          :***: * *:     ...        "
   ]
  }
 ],
 "metadata": {
  "kernelspec": {
   "display_name": "Python 3",
   "language": "python",
   "name": "python3"
  },
  "language_info": {
   "codemirror_mode": {
    "name": "ipython",
    "version": 3
   },
   "file_extension": ".py",
   "mimetype": "text/x-python",
   "name": "python",
   "nbconvert_exporter": "python",
   "pygments_lexer": "ipython3",
   "version": "3.6.10"
  }
 },
 "nbformat": 4,
 "nbformat_minor": 4
}
