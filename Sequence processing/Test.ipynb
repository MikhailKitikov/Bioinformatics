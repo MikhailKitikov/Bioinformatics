{
 "cells": [
  {
   "cell_type": "markdown",
   "metadata": {},
   "source": [
    "### Теория 1:\n",
    "Предсказание третичной структуры белка по аминокислотной последовательности (первичной структуре)\n",
    "\n",
    "В рамках соревнования я бы предпочел использовать современный и эффективный метод, основанный на нейронной сети, - ProteinNet. Это опенсорсный проект, поэтому я бы смог свободно его использовать (код на гитхабе).\n",
    "\n",
    "Говоря о существующих методах восстановления третичной структуры, они достаточно дороги и сложны. Машинное обучение позволяет легко решать сложные задачи вроде этой, имея достаточно много данных. \n",
    "\n",
    "В конце прошлого года DeepMind представила алгоритм AlphaFold, который обошел предшественников по эффективности. На основе последовательности аминокислот нейросеть предсказывает расстояния между всеми парами аминокислотных остатков и углы между связями, соединяющими аминокислоты. Позже Мохаммед Аль Курайши представил алгоритм ProteinNet, который работает на основе рекуррентной нейронной сети и предсказывает структуру одного сегмента белка на основе структур сегментов до и после него (типа Bidirectional RNN). Новизна модели в том, что она способна создавать непрерывные предсказания (без пропусков), благодаря тому, что модель связывает локальную и глобальную структуру белка через геометрические единицы.\n",
    "\n",
    "К сожалению, обучение сети ProteinNet занимает месяцы. Но у нас есть такая вещь, как TransferLearning. Поэтому я бы взял предобученную сетку и дообучил на нужных данных (в рамках соревнования) недельки за 2 :)\n",
    "\n",
    "Таким образом, я считаю, что нейросетевой подход - будущее биоинформатики. Поэтому пойду на Kaggle решать контесты по распознаванию чего-нибудь биологического, пока мой ProteinNet обучится."
   ]
  },
  {
   "cell_type": "markdown",
   "metadata": {},
   "source": [
    "## Task 1"
   ]
  },
  {
   "cell_type": "markdown",
   "metadata": {},
   "source": [
    "С помощью кода из лабы получим матрицу ДП (все выравнивания же более удобно получить с помощью биопитона)"
   ]
  },
  {
   "cell_type": "code",
   "execution_count": 35,
   "metadata": {},
   "outputs": [],
   "source": [
    "import numpy as np\n",
    "\n",
    "def alignProteins(seq1, seq2, printMatrix=True):\n",
    "    \n",
    "    # compute dp matrix\n",
    "    \n",
    "    n1, n2 = len(seq1), len(seq2)\n",
    "    dp = np.empty((n1 + 1, n2 + 1), dtype=int)\n",
    "\n",
    "    dp[:, 0] = np.arange(n1 + 1)\n",
    "    dp[0, :] = np.arange(n2 + 1)\n",
    "\n",
    "    for i in range(1, n1 + 1):\n",
    "        for j in range(1, n2 + 1):\n",
    "            dp[i, j] = min(dp[i - 1, j - 1] + 2 * int(seq1[i - 1] != seq2[j - 1]) - 1, \n",
    "                           dp[i - 1, j] + 1, \n",
    "                           dp[i, j - 1] + 1)\n",
    "            \n",
    "    if printMatrix:\n",
    "        print(\"\\t\\t\\tDP matrix:\\n\")\n",
    "        \n",
    "        seq1_list = [''] + list(seq1)\n",
    "        seq2_list = ['', ''] + list(seq2)\n",
    "\n",
    "        print('\\t')\n",
    "        print(\"\\t\".join(seq2_list))\n",
    "\n",
    "        for i in range(n1 + 1):\n",
    "            print(seq1_list[i], '\\t', '\\t'.join(list(dp[i].astype(str))))\n",
    "            \n",
    "    # back step\n",
    "    \n",
    "    i, j = n1, n2     \n",
    "    ans = [(i, j)]\n",
    "\n",
    "    while i != 0 and j != 0:\n",
    "        if dp[i - 1, j - 1] + 2 * int(seq1[i - 1] != seq2[j - 1]) - 1 == dp[i, j]:\n",
    "            ans.append((i - 1, j - 1))\n",
    "            i, j = i - 1, j - 1\n",
    "        elif dp[i - 1, j] + 1 == dp[i, j]:\n",
    "            ans.append((i - 1, j))\n",
    "            i, j = i - 1, j\n",
    "        else:\n",
    "            ans.append((i, j - 1))\n",
    "            i, j = i, j - 1\n",
    "\n",
    "    if i == 0:\n",
    "        while j != 0:\n",
    "            ans.append((0, j - 1))\n",
    "            j -= 1\n",
    "    elif j == 0:\n",
    "        while i != 0:\n",
    "            ans.append((i - 1, 0))\n",
    "            i -= 1\n",
    "\n",
    "    ans = list(reversed(ans))\n",
    "    \n",
    "    if printMatrix:\n",
    "        print(\"\\n\\t\\t\\tPath:\\n\")\n",
    "        print(ans)\n",
    "    \n",
    "    # create output\n",
    "    \n",
    "    prev_i, prev_j = 0, 0\n",
    "    seq1_aligned_list = []\n",
    "    seq2_aligned_list = []\n",
    "\n",
    "    for i, j in ans[1:]:        \n",
    "        if i == prev_i + 1 and j == prev_j + 1:\n",
    "            seq1_aligned_list.append(seq1[i - 1])\n",
    "            seq2_aligned_list.append(seq2[j - 1])\n",
    "        elif i == prev_i + 1 and j == prev_j:\n",
    "            seq1_aligned_list.append(seq1[i - 1])\n",
    "            seq2_aligned_list.append('-')\n",
    "        else:\n",
    "            seq1_aligned_list.append('-')\n",
    "            seq2_aligned_list.append(seq2[j - 1])\n",
    "        prev_i, prev_j = i, j\n",
    "            \n",
    "    seq1_aligned = ''.join(seq1_aligned_list)\n",
    "    seq2_aligned = ''.join(seq2_aligned_list)\n",
    "            \n",
    "    return seq1_aligned, seq2_aligned, dp[n1, n2]"
   ]
  },
  {
   "cell_type": "code",
   "execution_count": 37,
   "metadata": {},
   "outputs": [
    {
     "name": "stdout",
     "output_type": "stream",
     "text": [
      "\t\t\tDP matrix:\n",
      "\n",
      "\t\n",
      "\t\tC\tA\tG\tC\tG\tT\tG\tG\n",
      " \t 0\t1\t2\t3\t4\t5\t6\t7\t8\n",
      "C \t 1\t-1\t0\t1\t2\t3\t4\t5\t6\n",
      "A \t 2\t0\t-2\t-1\t0\t1\t2\t3\t4\n",
      "G \t 3\t1\t-1\t-3\t-2\t-1\t0\t1\t2\n",
      "C \t 4\t2\t0\t-2\t-4\t-3\t-2\t-1\t0\n",
      "A \t 5\t3\t1\t-1\t-3\t-3\t-2\t-1\t0\n",
      "C \t 6\t4\t2\t0\t-2\t-2\t-2\t-1\t0\n",
      "T \t 7\t5\t3\t1\t-1\t-1\t-3\t-2\t-1\n",
      "T \t 8\t6\t4\t2\t0\t0\t-2\t-2\t-1\n",
      "G \t 9\t7\t5\t3\t1\t-1\t-1\t-3\t-3\n",
      "G \t 10\t8\t6\t4\t2\t0\t0\t-2\t-4\n",
      "A \t 11\t9\t7\t5\t3\t1\t1\t-1\t-3\n",
      "T \t 12\t10\t8\t6\t4\t2\t0\t0\t-2\n",
      "T \t 13\t11\t9\t7\t5\t3\t1\t1\t-1\n",
      "C \t 14\t12\t10\t8\t6\t4\t2\t2\t0\n",
      "T \t 15\t13\t11\t9\t7\t5\t3\t3\t1\n",
      "C \t 16\t14\t12\t10\t8\t6\t4\t4\t2\n",
      "G \t 17\t15\t13\t11\t9\t7\t5\t3\t3\n",
      "G \t 18\t16\t14\t12\t10\t8\t6\t4\t2\n",
      "\n",
      "\t\t\tPath:\n",
      "\n",
      "[(0, 0), (1, 1), (2, 2), (3, 3), (4, 3), (5, 3), (6, 4), (7, 4), (8, 4), (9, 4), (10, 5), (11, 5), (12, 5), (13, 5), (14, 5), (15, 6), (16, 6), (17, 7), (18, 8)]\n",
      "\n",
      "\t\t\tAlignment:\n",
      "\n",
      "CAGCACTTGGATTCTCGG\n",
      "CAG--C---G----T-GG\n",
      "\n",
      "Weight = -2\n"
     ]
    }
   ],
   "source": [
    "seq1 = \"CAGCACTTGGATTCTCGG\"\n",
    "seq2 = \"CAGCGTGG\"\n",
    "\n",
    "seq1_aligned, seq2_aligned, weight = alignProteins(seq1, seq2)\n",
    "print(\"\\n\\t\\t\\tAlignment:\\n\")\n",
    "print(seq1_aligned)\n",
    "print(seq2_aligned)\n",
    "print(\"\\nWeight =\", -weight)"
   ]
  },
  {
   "cell_type": "code",
   "execution_count": 53,
   "metadata": {},
   "outputs": [],
   "source": [
    "from Bio import pairwise2\n",
    "alignments = pairwise2.align.globalms(\"CAGCACTTGGATTCTCGG\", \"CAGCGTGG\", 1, -1, -1, -1)"
   ]
  },
  {
   "cell_type": "code",
   "execution_count": 54,
   "metadata": {},
   "outputs": [
    {
     "data": {
      "text/plain": [
       "[('CAGCACTTGGATTCTCGG', 'CAG--C---G----T-GG', -2.0, 0, 18),\n",
       " ('CAGCACTTGGATTCTCGG', 'CAGC-----G----T-GG', -2.0, 0, 18),\n",
       " ('CAGCACTTGGATTCTCGG', 'CAG--C--G-----T-GG', -2.0, 0, 18),\n",
       " ('CAGCACTTGGATTCTCGG', 'CAGC----G-----T-GG', -2.0, 0, 18),\n",
       " ('CAGCACTTGGATTCTCGG', 'CAG--C---G--T---GG', -2.0, 0, 18),\n",
       " ('CAGCACTTGGATTCTCGG', 'CAGC-----G--T---GG', -2.0, 0, 18),\n",
       " ('CAGCACTTGGATTCTCGG', 'CAG--C--G---T---GG', -2.0, 0, 18),\n",
       " ('CAGCACTTGGATTCTCGG', 'CAGC----G---T---GG', -2.0, 0, 18),\n",
       " ('CAGCACTTGGATTCTCGG', 'CAG--C---G-T----GG', -2.0, 0, 18),\n",
       " ('CAGCACTTGGATTCTCGG', 'CAGC-----G-T----GG', -2.0, 0, 18),\n",
       " ('CAGCACTTGGATTCTCGG', 'CAG--C--G--T----GG', -2.0, 0, 18),\n",
       " ('CAGCACTTGGATTCTCGG', 'CAGC----G--T----GG', -2.0, 0, 18)]"
      ]
     },
     "execution_count": 54,
     "metadata": {},
     "output_type": "execute_result"
    }
   ],
   "source": [
    "alignments"
   ]
  },
  {
   "cell_type": "markdown",
   "metadata": {},
   "source": [
    "Веса равны -2"
   ]
  },
  {
   "cell_type": "markdown",
   "metadata": {},
   "source": [
    "## Task 2"
   ]
  },
  {
   "cell_type": "raw",
   "metadata": {},
   "source": [
    "gnl|GNOMON|5      ---AAGTATGGACTC 12\n",
    "gnl|GNOMON|9      -TACCGTATGGTT-- 12\n",
    "gnl|GNOMON|4      CCTAATCAGGGC--- 12\n",
    "gnl|GNOMON|6      ACTAAGCAGGGT--- 12\n",
    "gnl|GNOMON|2      -AAAAGCACGGTC-- 12\n",
    "gnl|GNOMON|3      TCAAAGCAAGGC--- 12\n",
    "gnl|GNOMON|1      ACCACTCGTCGA--- 12\n",
    "gnl|GNOMON|7      ---TCTCACGGCCCA 12\n",
    "gnl|GNOMON|0      -GAACTCATGGTG-- 12\n",
    "gnl|GNOMON|8      ---CCTCGTGGTGGG 12"
   ]
  },
  {
   "cell_type": "markdown",
   "metadata": {},
   "source": [
    "## Task 3"
   ]
  },
  {
   "cell_type": "code",
   "execution_count": 28,
   "metadata": {},
   "outputs": [
    {
     "data": {
      "text/plain": [
       "250"
      ]
     },
     "execution_count": 28,
     "metadata": {},
     "output_type": "execute_result"
    }
   ],
   "source": [
    "from Bio import SeqIO\n",
    "\n",
    "SeqIO.convert('cl.fq','fastq','result.fasta','fasta')"
   ]
  },
  {
   "cell_type": "markdown",
   "metadata": {},
   "source": [
    "## Task 4"
   ]
  },
  {
   "cell_type": "code",
   "execution_count": 49,
   "metadata": {},
   "outputs": [],
   "source": [
    "from Bio.Seq import Seq\n",
    "from Bio import SeqIO\n",
    "from Bio.Alphabet import IUPAC"
   ]
  },
  {
   "cell_type": "code",
   "execution_count": 63,
   "metadata": {},
   "outputs": [
    {
     "name": "stdout",
     "output_type": "stream",
     "text": [
      "3'-CCTAGCATCGGAT-5'\n"
     ]
    }
   ],
   "source": [
    "my_seq = Seq(\"GGATCGTAGCCTA\", IUPAC.unambiguous_dna)\n",
    "print(\"3'-\" + my_seq.complement() + \"-5'\")"
   ]
  },
  {
   "cell_type": "markdown",
   "metadata": {},
   "source": [
    "## Task 5"
   ]
  },
  {
   "cell_type": "code",
   "execution_count": 59,
   "metadata": {},
   "outputs": [
    {
     "name": "stdout",
     "output_type": "stream",
     "text": [
      " |GATGGTCACATCTGCCGC\n",
      "--------------------\n",
      "G|■  ■■        ■  ■ \n",
      "C|      ■ ■  ■  ■■ ■\n",
      "T|  ■  ■    ■ ■     \n",
      "A| ■     ■ ■        \n",
      "G|■  ■■        ■  ■ \n",
      "T|  ■  ■    ■ ■     \n",
      "C|      ■ ■  ■  ■■ ■\n",
      "A| ■     ■ ■        \n",
      "G|■  ■■        ■  ■ \n",
      "A| ■     ■ ■        \n",
      "T|  ■  ■    ■ ■     \n",
      "C|      ■ ■  ■  ■■ ■\n",
      "T|  ■  ■    ■ ■     \n",
      "G|■  ■■        ■  ■ \n",
      "A| ■     ■ ■        \n",
      "C|      ■ ■  ■  ■■ ■\n",
      "G|■  ■■        ■  ■ \n",
      "C|      ■ ■  ■  ■■ ■\n",
      "T|  ■  ■    ■ ■     \n",
      "A| ■     ■ ■        \n"
     ]
    }
   ],
   "source": [
    "def delta(x,y):\n",
    "    return 0 if x == y else 1\n",
    "\n",
    "def M(seq1,seq2,i,j,k):\n",
    "    return sum(delta(x,y) for x,y in zip(seq1[i:i+k],seq2[j:j+k]))\n",
    "\n",
    "def makeMatrix(seq1,seq2,k):\n",
    "    n = len(seq1)\n",
    "    m = len(seq2)\n",
    "    return [[M(seq1,seq2,i,j,k) for j in range(m-k+1)] for i in range(n-k+1)]\n",
    "\n",
    "def plotMatrix(M,t, seq1, seq2, nonblank = chr(0x25A0), blank = ' '):\n",
    "    print(' |' + seq2)\n",
    "    print('-'*(2 + len(seq2)))\n",
    "    for label,row in zip(seq1,M):\n",
    "        line = ''.join(nonblank if s < t else blank for s in row)\n",
    "        print(label + '|' + line)\n",
    "\n",
    "def dotplot(seq1,seq2,k = 1,t = 1):\n",
    "    M = makeMatrix(seq1,seq2,k)\n",
    "    plotMatrix(M, t, seq1,seq2) #experiment with character choice\n",
    "\n",
    "seqx = \"GCTAGTCAGATCTGACGCTA\"\n",
    "seqy = \"GATGGTCACATCTGCCGC\"\n",
    "dotplot(seqx,seqy)"
   ]
  },
  {
   "cell_type": "markdown",
   "metadata": {},
   "source": [
    "На точечном графике можно видеть четкие диагональные линии, что свидетельствует о похожести последовательностей (тут даже почти есть четкая главная диагональ, что говорит о сильной схожести)"
   ]
  },
  {
   "cell_type": "markdown",
   "metadata": {},
   "source": [
    "## Task 7"
   ]
  },
  {
   "attachments": {
    "%D0%91%D0%B5%D0%B7%D1%8B%D0%BC%D1%8F%D0%BD%D0%BD%D1%8B%D0%B9.png": {
     "image/png": "[encoded data removed]"
    }
   },
   "cell_type": "markdown",
   "metadata": {},
   "source": [
    "![%D0%91%D0%B5%D0%B7%D1%8B%D0%BC%D1%8F%D0%BD%D0%BD%D1%8B%D0%B9.png](attachment:%D0%91%D0%B5%D0%B7%D1%8B%D0%BC%D1%8F%D0%BD%D0%BD%D1%8B%D0%B9.png)"
   ]
  },
  {
   "cell_type": "markdown",
   "metadata": {},
   "source": [
    "(примерно так, мог немного напутать с поиском по треугольной табличке)"
   ]
  },
  {
   "cell_type": "markdown",
   "metadata": {},
   "source": [
    "## Task 13.1"
   ]
  },
  {
   "cell_type": "code",
   "execution_count": 62,
   "metadata": {},
   "outputs": [
    {
     "name": "stdout",
     "output_type": "stream",
     "text": [
      "\t\t\tDP matrix:\n",
      "\n",
      "\t\n",
      "\t\tC\tG\tA\tT\tA\tA\tC\n",
      " \t 0\t1\t2\t3\t4\t5\t6\t7\n",
      "A \t 1\t1\t2\t1\t2\t3\t4\t5\n",
      "A \t 2\t2\t2\t1\t2\t1\t2\t3\n",
      "C \t 3\t1\t2\t2\t2\t2\t2\t1\n",
      "G \t 4\t2\t0\t1\t2\t3\t3\t2\n",
      "T \t 5\t3\t1\t1\t0\t1\t2\t3\n",
      "T \t 6\t4\t2\t2\t0\t1\t2\t3\n",
      "A \t 7\t5\t3\t1\t1\t-1\t0\t1\n",
      "C \t 8\t6\t4\t2\t2\t0\t0\t-1\n",
      "\n",
      "\t\t\tPath:\n",
      "\n",
      "[(0, 0), (1, 0), (2, 0), (3, 1), (4, 2), (4, 3), (5, 4), (6, 5), (7, 6), (8, 7)]\n",
      "\n",
      "\t\t\tAlignment:\n",
      "\n",
      "AACG-TTAC\n",
      "--CGATAAC\n",
      "\n",
      "Weight = 1\n"
     ]
    }
   ],
   "source": [
    "seq1 = \"AACGTTAC\"\n",
    "seq2 = \"CGATAAC\"\n",
    "\n",
    "seq1_aligned, seq2_aligned, weight = alignProteins(seq1, seq2)\n",
    "print(\"\\n\\t\\t\\tAlignment:\\n\")\n",
    "print(seq1_aligned)\n",
    "print(seq2_aligned)\n",
    "print(\"\\nWeight =\", -weight)"
   ]
  },
  {
   "cell_type": "markdown",
   "metadata": {},
   "source": [
    "## Task 14"
   ]
  },
  {
   "attachments": {
    "1.png": {
     "image/png": "[encoded data removed]"
    }
   },
   "cell_type": "markdown",
   "metadata": {},
   "source": [
    "![1.png](attachment:1.png)"
   ]
  }
 ],
 "metadata": {
  "kernelspec": {
   "display_name": "Python 3",
   "language": "python",
   "name": "python3"
  },
  "language_info": {
   "codemirror_mode": {
    "name": "ipython",
    "version": 3
   },
   "file_extension": ".py",
   "mimetype": "text/x-python",
   "name": "python",
   "nbconvert_exporter": "python",
   "pygments_lexer": "ipython3",
   "version": "3.6.10"
  }
 },
 "nbformat": 4,
 "nbformat_minor": 4
}
